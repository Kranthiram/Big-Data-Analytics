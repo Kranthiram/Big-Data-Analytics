{
 "cells": [
  {
   "cell_type": "markdown",
   "id": "b0769fee-3b99-4db6-9520-df136be41445",
   "metadata": {},
   "source": [
    "# Week-6"
   ]
  },
  {
   "cell_type": "code",
   "execution_count": 2,
   "id": "93fc94b9-eb33-4edf-94fa-d90406a717bc",
   "metadata": {},
   "outputs": [
    {
     "data": {
      "text/html": [
       "\n",
       "            <div>\n",
       "                <p><b>SparkSession - hive</b></p>\n",
       "                \n",
       "        <div>\n",
       "            <p><b>SparkContext</b></p>\n",
       "\n",
       "            <p><a href=\"http://Kranthi:4040\">Spark UI</a></p>\n",
       "\n",
       "            <dl>\n",
       "              <dt>Version</dt>\n",
       "                <dd><code>v3.5.6</code></dd>\n",
       "              <dt>Master</dt>\n",
       "                <dd><code>local[*]</code></dd>\n",
       "              <dt>AppName</dt>\n",
       "                <dd><code>PySparkShell</code></dd>\n",
       "            </dl>\n",
       "        </div>\n",
       "        \n",
       "            </div>\n",
       "        "
      ],
      "text/plain": [
       "<pyspark.sql.session.SparkSession at 0x181227f7520>"
      ]
     },
     "execution_count": 2,
     "metadata": {},
     "output_type": "execute_result"
    }
   ],
   "source": [
    "spark"
   ]
  },
  {
   "cell_type": "code",
   "execution_count": 3,
   "id": "e9d8072b-93d0-434c-85f0-b39372b329f7",
   "metadata": {},
   "outputs": [],
   "source": [
    "from pyspark import SparkContext\n",
    "import random\n",
    "\n",
    "# Check if a SparkContext already exists\n",
    "sc = SparkContext.getOrCreate()\n",
    "sc.setLogLevel(\"ERROR\")   # optional, reduces log spam\n"
   ]
  },
  {
   "cell_type": "code",
   "execution_count": 4,
   "id": "995f1938-2f0e-4f34-81f9-9986c30632a3",
   "metadata": {},
   "outputs": [
    {
     "name": "stdout",
     "output_type": "stream",
     "text": [
      "Original List:\n",
      "[151, 717, 28, 715, 873, 922, 263, 932, 807, 606, 415, 258, 68, 861, 578, 741, 894, 79, 74, 679, 635, 511, 931, 92, 856, 73, 427, 301, 444, 526, 55, 271, 288, 434, 29, 329, 762, 224, 943, 441, 575, 450, 637, 572, 901, 696, 657, 909, 499, 745, 571, 576, 591, 587, 306, 378, 982, 45, 276, 842, 139, 499, 318, 337, 89, 200, 233, 874, 634, 208, 483, 914, 226, 139, 861, 279, 335, 155, 965, 73, 821, 644, 49, 419, 205, 655, 607, 202, 951, 297, 108, 437, 164, 391, 450, 218, 572, 527, 140, 623]\n"
     ]
    }
   ],
   "source": [
    "random_numbers = [random.randint(1, 1000) for _ in range(100)]\n",
    "print(\"Original List:\")\n",
    "print(random_numbers)"
   ]
  },
  {
   "cell_type": "code",
   "execution_count": 5,
   "id": "3d019531-478a-4184-b413-d1bfac42fb24",
   "metadata": {},
   "outputs": [],
   "source": [
    "numbers_rdd = sc.parallelize(random_numbers)"
   ]
  },
  {
   "cell_type": "code",
   "execution_count": 6,
   "id": "d8c1daa6-f7cf-4433-99f7-2f86284f2790",
   "metadata": {},
   "outputs": [],
   "source": [
    "even_numbers_rdd = numbers_rdd.filter(lambda x: x % 2 == 0)"
   ]
  },
  {
   "cell_type": "code",
   "execution_count": 7,
   "id": "5e6fa616-7c25-44e9-a277-57d0cb60c2fc",
   "metadata": {},
   "outputs": [
    {
     "name": "stdout",
     "output_type": "stream",
     "text": [
      "\n",
      "Even Numbers:\n",
      "[28, 922, 932, 606, 258, 68, 578, 894, 74, 92, 856, 444, 526, 288, 434, 762, 224, 450, 572, 696, 576, 306, 378, 982, 276, 842, 318, 200, 874, 634, 208, 914, 226, 644, 202, 108, 164, 450, 218, 572, 140]\n"
     ]
    }
   ],
   "source": [
    "even_numbers = even_numbers_rdd.collect()\n",
    "print(\"\\nEven Numbers:\")\n",
    "print(even_numbers)"
   ]
  },
  {
   "cell_type": "code",
   "execution_count": null,
   "id": "98dbeb99-56b7-4172-bb83-8e4ee018432f",
   "metadata": {},
   "outputs": [],
   "source": []
  },
  {
   "cell_type": "code",
   "execution_count": null,
   "id": "f70d7f7d-1f06-4d98-92f8-8fa0c1d17bf4",
   "metadata": {},
   "outputs": [],
   "source": []
  }
 ],
 "metadata": {
  "kernelspec": {
   "display_name": "PySpark 3.5 (Python 3.10)",
   "language": "python",
   "name": "pyspark310"
  },
  "language_info": {
   "codemirror_mode": {
    "name": "ipython",
    "version": 3
   },
   "file_extension": ".py",
   "mimetype": "text/x-python",
   "name": "python",
   "nbconvert_exporter": "python",
   "pygments_lexer": "ipython3",
   "version": "3.10.18"
  }
 },
 "nbformat": 4,
 "nbformat_minor": 5
}
