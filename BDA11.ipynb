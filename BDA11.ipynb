{
 "cells": [
  {
   "cell_type": "code",
   "execution_count": 1,
   "id": "3afb824e-2931-4fca-8806-72cb29ada5bb",
   "metadata": {},
   "outputs": [
    {
     "data": {
      "text/html": [
       "\n",
       "        <div>\n",
       "            <p><b>SparkContext</b></p>\n",
       "\n",
       "            <p><a href=\"http://Kranthi:4045\">Spark UI</a></p>\n",
       "\n",
       "            <dl>\n",
       "              <dt>Version</dt>\n",
       "                <dd><code>v3.5.6</code></dd>\n",
       "              <dt>Master</dt>\n",
       "                <dd><code>local[*]</code></dd>\n",
       "              <dt>AppName</dt>\n",
       "                <dd><code>PySparkShell</code></dd>\n",
       "            </dl>\n",
       "        </div>\n",
       "        "
      ],
      "text/plain": [
       "<SparkContext master=local[*] appName=PySparkShell>"
      ]
     },
     "execution_count": 1,
     "metadata": {},
     "output_type": "execute_result"
    }
   ],
   "source": [
    "sc"
   ]
  },
  {
   "cell_type": "code",
   "execution_count": 2,
   "id": "9aab5f6d-4de6-43ab-aad4-5cf838b23f8c",
   "metadata": {},
   "outputs": [],
   "source": [
    "from pyspark.sql import SparkSession\n",
    "from pyspark.sql.functions import col, avg, max, min, round, count\n",
    "# Step 1: Initialize Spark Session\n",
    "spark = SparkSession.builder.appName(\"StudentsAnalytics\").getOrCreate()"
   ]
  },
  {
   "cell_type": "code",
   "execution_count": 3,
   "id": "725696b3-766b-4b3d-a63c-8cf1bfdce884",
   "metadata": {},
   "outputs": [],
   "source": [
    "# Step 2: Read CSV file into DataFrame\n",
    "df = spark.read.csv(\"students.csv\", header=True, inferSchema=True)"
   ]
  },
  {
   "cell_type": "code",
   "execution_count": 4,
   "id": "528e2b05-a5ad-4a0a-8ccc-1bf6a87f4dfd",
   "metadata": {},
   "outputs": [
    {
     "name": "stdout",
     "output_type": "stream",
     "text": [
      "=== First 5 rows ===\n",
      "+---+-------+---+------+----+-------+-------+\n",
      "| id|   name|age|gender|math|science|english|\n",
      "+---+-------+---+------+----+-------+-------+\n",
      "|  1|  Alice| 20|     F|  66|     92|     44|\n",
      "|  2|    Bob| 20|     M|  82|     52|     77|\n",
      "|  3|Charlie| 22|     F|  43|     57|     76|\n",
      "|  4|  David| 19|     M|  95|     69|     46|\n",
      "|  5|    Eva| 19|     F|  62|     44|     96|\n",
      "+---+-------+---+------+----+-------+-------+\n",
      "only showing top 5 rows\n",
      "\n"
     ]
    }
   ],
   "source": [
    "# 1. View first 5 rows\n",
    "print(\"=== First 5 rows ===\")\n",
    "df.show(5)"
   ]
  },
  {
   "cell_type": "code",
   "execution_count": 5,
   "id": "5ba06bb2-0973-4d4e-ad0d-8ebd4c6c2059",
   "metadata": {},
   "outputs": [
    {
     "name": "stdout",
     "output_type": "stream",
     "text": [
      "=== Schema ===\n",
      "root\n",
      " |-- id: integer (nullable = true)\n",
      " |-- name: string (nullable = true)\n",
      " |-- age: integer (nullable = true)\n",
      " |-- gender: string (nullable = true)\n",
      " |-- math: integer (nullable = true)\n",
      " |-- science: integer (nullable = true)\n",
      " |-- english: integer (nullable = true)\n",
      "\n"
     ]
    }
   ],
   "source": [
    "# 2. Print schema\n",
    "print(\"=== Schema ===\")\n",
    "df.printSchema()"
   ]
  },
  {
   "cell_type": "code",
   "execution_count": 6,
   "id": "de9e4ac1-46c9-4b0e-a724-f777a2536d9a",
   "metadata": {},
   "outputs": [
    {
     "name": "stdout",
     "output_type": "stream",
     "text": [
      "Total rows: 50\n"
     ]
    }
   ],
   "source": [
    "# 3. Count total rows\n",
    "print(\"Total rows:\", df.count())"
   ]
  },
  {
   "cell_type": "code",
   "execution_count": 7,
   "id": "97eca6ef-9f3d-4247-afa2-242a82a5c985",
   "metadata": {},
   "outputs": [
    {
     "name": "stdout",
     "output_type": "stream",
     "text": [
      "=== Summary Statistics ===\n",
      "+-------+------------------+-----+------------------+------+------------------+------------------+-----------------+\n",
      "|summary|                id| name|               age|gender|              math|           science|          english|\n",
      "+-------+------------------+-----+------------------+------+------------------+------------------+-----------------+\n",
      "|  count|                50|   50|                50|    50|                50|                50|               50|\n",
      "|   mean|              25.5| NULL|              21.5|  NULL|             68.94|             70.16|            69.36|\n",
      "| stddev|14.577379737113251| NULL|2.2337851101588404|  NULL|17.609610085034216|14.636214521186957|18.74507826560544|\n",
      "|    min|                 1|Aaron|                18|     F|                40|                44|               42|\n",
      "|    max|                50| Zoey|                25|     M|               100|                99|              100|\n",
      "+-------+------------------+-----+------------------+------+------------------+------------------+-----------------+\n",
      "\n"
     ]
    }
   ],
   "source": [
    "# 4. Show summary statistics (numeric columns)\n",
    "print(\"=== Summary Statistics ===\")\n",
    "df.describe().show()"
   ]
  },
  {
   "cell_type": "code",
   "execution_count": 8,
   "id": "35878a5a-f939-44c8-b33a-13acd7c2fcf3",
   "metadata": {},
   "outputs": [
    {
     "name": "stdout",
     "output_type": "stream",
     "text": [
      "=== Students with math >= 80 ===\n",
      "+---+------+----+\n",
      "| id|  name|math|\n",
      "+---+------+----+\n",
      "|  2|   Bob|  82|\n",
      "|  4| David|  95|\n",
      "| 11| Kathy|  85|\n",
      "| 12|   Leo|  97|\n",
      "| 15|Olivia|  87|\n",
      "| 20|  Tina| 100|\n",
      "| 21|   Uma|  89|\n",
      "| 22|Victor|  96|\n",
      "| 25|  Yara| 100|\n",
      "| 27| Aaron|  81|\n",
      "+---+------+----+\n",
      "only showing top 10 rows\n",
      "\n"
     ]
    }
   ],
   "source": [
    "# 5. Select students with math >= 80\n",
    "print(\"=== Students with math >= 80 ===\")\n",
    "df.filter(col(\"math\") >= 80).select(\"id\", \"name\", \"math\").show(10)"
   ]
  },
  {
   "cell_type": "code",
   "execution_count": 9,
   "id": "b81f3afb-dde0-4ce0-82e7-adcfb0af545d",
   "metadata": {},
   "outputs": [
    {
     "name": "stdout",
     "output_type": "stream",
     "text": [
      "=== Average marks per subject ===\n",
      "+--------+-----------+-----------+\n",
      "|avg_math|avg_science|avg_english|\n",
      "+--------+-----------+-----------+\n",
      "|   68.94|      70.16|      69.36|\n",
      "+--------+-----------+-----------+\n",
      "\n"
     ]
    }
   ],
   "source": [
    "# 6. Calculate average marks per subject\n",
    "print(\"=== Average marks per subject ===\")\n",
    "df.select(\n",
    " round(avg(\"math\"),2).alias(\"avg_math\"),\n",
    " round(avg(\"science\"),2).alias(\"avg_science\"),\n",
    " round(avg(\"english\"),2).alias(\"avg_english\")\n",
    ").show()"
   ]
  },
  {
   "cell_type": "code",
   "execution_count": 10,
   "id": "3ea3b201-f897-4e71-973d-68c5231cc412",
   "metadata": {},
   "outputs": [
    {
     "name": "stdout",
     "output_type": "stream",
     "text": [
      "=== Dataset with 'average' column ===\n",
      "+---+-------+---+------+----+-------+-------+-------+\n",
      "| id|   name|age|gender|math|science|english|average|\n",
      "+---+-------+---+------+----+-------+-------+-------+\n",
      "|  1|  Alice| 20|     F|  66|     92|     44|  67.33|\n",
      "|  2|    Bob| 20|     M|  82|     52|     77|  70.33|\n",
      "|  3|Charlie| 22|     F|  43|     57|     76|  58.67|\n",
      "|  4|  David| 19|     M|  95|     69|     46|   70.0|\n",
      "|  5|    Eva| 19|     F|  62|     44|     96|  67.33|\n",
      "+---+-------+---+------+----+-------+-------+-------+\n",
      "only showing top 5 rows\n",
      "\n"
     ]
    }
   ],
   "source": [
    "# 7. Add new column: average marks\n",
    "df_with_avg = df.withColumn(\"average\", round((col(\"math\")+col(\"science\")+col(\"english\"))/3,2))\n",
    "print(\"=== Dataset with 'average' column ===\")\n",
    "df_with_avg.show(5)"
   ]
  },
  {
   "cell_type": "code",
   "execution_count": 11,
   "id": "ab207742-cd7e-4a87-abf6-c365e064ef47",
   "metadata": {},
   "outputs": [
    {
     "name": "stdout",
     "output_type": "stream",
     "text": [
      "=== Topper ===\n",
      "+---+----+---+------+----+-------+-------+-------+\n",
      "| id|name|age|gender|math|science|english|average|\n",
      "+---+----+---+------+----+-------+-------+-------+\n",
      "| 12| Leo| 24|     M|  97|     84|     83|   88.0|\n",
      "+---+----+---+------+----+-------+-------+-------+\n",
      "\n"
     ]
    }
   ],
   "source": [
    "# 8. Find topper (student with max average)\n",
    "print(\"=== Topper ===\")\n",
    "df_with_avg.orderBy(col(\"average\").desc()).limit(1).show()"
   ]
  },
  {
   "cell_type": "code",
   "execution_count": 12,
   "id": "30fbb281-4543-4597-9da0-0e2e8126a33f",
   "metadata": {},
   "outputs": [
    {
     "name": "stdout",
     "output_type": "stream",
     "text": [
      "=== Average marks by gender ===\n",
      "+------+--------+-----------+-----------+-----------+\n",
      "|gender|avg_math|avg_science|avg_english|overall_avg|\n",
      "+------+--------+-----------+-----------+-----------+\n",
      "|     F|   63.86|      68.55|      70.55|      67.66|\n",
      "|     M|   75.95|      72.38|      67.71|      72.02|\n",
      "+------+--------+-----------+-----------+-----------+\n",
      "\n"
     ]
    }
   ],
   "source": [
    "# 9. Group by gender → average marks\n",
    "print(\"=== Average marks by gender ===\")\n",
    "df_with_avg.groupBy(\"gender\").agg(\n",
    "round(avg(\"math\"),2).alias(\"avg_math\"),\n",
    "round(avg(\"science\"),2).alias(\"avg_science\"),\n",
    "round(avg(\"english\"),2).alias(\"avg_english\"),\n",
    "round(avg(\"average\"),2).alias(\"overall_avg\")\n",
    ").show()"
   ]
  },
  {
   "cell_type": "code",
   "execution_count": 13,
   "id": "1833faf2-9f82-4c8a-8d47-38adbd430368",
   "metadata": {},
   "outputs": [
    {
     "name": "stdout",
     "output_type": "stream",
     "text": [
      "=== Min & Max of each subject ===\n",
      "+--------+--------+-----------+-----------+-----------+-----------+\n",
      "|min_math|max_math|min_science|max_science|min_english|max_english|\n",
      "+--------+--------+-----------+-----------+-----------+-----------+\n",
      "|      40|     100|         44|         99|         42|        100|\n",
      "+--------+--------+-----------+-----------+-----------+-----------+\n",
      "\n"
     ]
    }
   ],
   "source": [
    "# 10. Find min and max of each subject\n",
    "print(\"=== Min & Max of each subject ===\")\n",
    "df.select(\n",
    "min(\"math\").alias(\"min_math\"), max(\"math\").alias(\"max_math\"),\n",
    "min(\"science\").alias(\"min_science\"), max(\"science\").alias(\"max_science\"),\n",
    "min(\"english\").alias(\"min_english\"), max(\"english\").alias(\"max_english\")\n",
    ").show()"
   ]
  },
  {
   "cell_type": "code",
   "execution_count": null,
   "id": "8752fdab-9f48-48aa-9d47-360b0ebb902e",
   "metadata": {},
   "outputs": [],
   "source": []
  }
 ],
 "metadata": {
  "kernelspec": {
   "display_name": "PySpark 3.5 (Python 3.10)",
   "language": "python",
   "name": "pyspark310"
  },
  "language_info": {
   "codemirror_mode": {
    "name": "ipython",
    "version": 3
   },
   "file_extension": ".py",
   "mimetype": "text/x-python",
   "name": "python",
   "nbconvert_exporter": "python",
   "pygments_lexer": "ipython3",
   "version": "3.10.18"
  }
 },
 "nbformat": 4,
 "nbformat_minor": 5
}
